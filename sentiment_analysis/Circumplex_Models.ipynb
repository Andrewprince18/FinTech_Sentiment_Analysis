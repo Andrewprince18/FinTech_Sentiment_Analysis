{
 "cells": [
  {
   "cell_type": "markdown",
   "metadata": {},
   "source": [
    "這段代碼的主要功能是將輸入的文字轉換為語音，並將語音保存為一個音頻文件（默認為 \"output_audio.wav\"）。這是利用 gTTS (Google Text-to-Speech) 庫實現的。"
   ]
  },
  {
   "cell_type": "code",
   "execution_count": null,
   "metadata": {},
   "outputs": [],
   "source": [
    "from gtts import gTTS\n",
    "\n",
    "def text_to_speech(text, filename=\"output_audio.wav\"):\n",
    "    tts = gTTS(text=text, lang='en')\n",
    "    tts.save(filename)\n",
    "    print(f\"Audio saved as {filename}\")\n",
    "    return filename\n",
    "\n",
    "# 將輸入文字轉為語音文件\n",
    "text = \"The company's performance this quarter showed strong growth in revenue and profit margins, driven by increased sales and efficient cost management. Key product launches and innovations contributed to market share growth, while investments in sustainability improved both reputation and appeal to eco-conscious consumers. Employee efforts fostered a collaborative culture, which supported overall success. These results exceeded expectations, positioning the company well for future expansion into new markets.\"\n",
    "audio_file = text_to_speech(text)"
   ]
  },
  {
   "cell_type": "markdown",
   "metadata": {},
   "source": [
    "在這段代碼中，您使用了 librosa 库來提取音頻特徵，這些特徵包括：\n",
    "\n",
    "- 零交叉率 (Zero Crossing Rate, ZCR)：它反映了音頻信號中頻率的變化，通常與音頻的粗糙度、破裂感或噪音有關。\n",
    "- 頻譜質心 (Spectral Centroid)：它代表了頻譜的 \"重心\"，可以反映音頻的亮度或尖銳感。\n",
    "- 頻譜滾降 (Spectral Roll-off)：它表示頻譜中某個特定比例的總能量位於高頻區域，這有助於識別音頻的亮度或清晰度。\n",
    "- 梅爾頻率倒譜係數 (MFCCs)：這些是語音和音樂中最常用的特徵之一，用於描述音頻的頻譜特徵，能夠反映音頻的音色。"
   ]
  },
  {
   "cell_type": "code",
   "execution_count": 27,
   "metadata": {},
   "outputs": [
    {
     "name": "stdout",
     "output_type": "stream",
     "text": [
      "Extracted Audio Features:\n",
      "{'zcr': 0.1454309971389426, 'spectral_centroid': 2382.1094134918917, 'spectral_rolloff': 4127.072314736461, 'mfcc_1': -301.59106, 'mfcc_2': 86.60667, 'mfcc_3': 2.6235971, 'mfcc_4': 9.456604, 'mfcc_5': 2.0202246, 'mfcc_6': -8.451384, 'mfcc_7': -9.348526, 'mfcc_8': -12.273613, 'mfcc_9': -9.626634, 'mfcc_10': -11.328415, 'mfcc_11': -11.634263, 'mfcc_12': -0.62094, 'mfcc_13': -6.8831778, 'mfcc_14': 2.655982, 'mfcc_15': -4.8050957, 'mfcc_16': 1.0596268, 'mfcc_17': 2.6891272, 'mfcc_18': -1.468976, 'mfcc_19': -2.6905656, 'mfcc_20': -5.8471866}\n"
     ]
    }
   ],
   "source": [
    "import librosa\n",
    "import numpy as np\n",
    "\n",
    "def extract_audio_features_with_librosa(audio_file):\n",
    "    # 加载音频文件\n",
    "    y, sr = librosa.load(audio_file, mono=True)\n",
    "    \n",
    "    # 计算特征\n",
    "    zcr = np.mean(librosa.feature.zero_crossing_rate(y)[0])  # 添加 [0] 获取特征矩阵的第一行\n",
    "    spectral_centroid = np.mean(librosa.feature.spectral_centroid(y=y, sr=sr)[0])  # 添加 y= 和 sr=\n",
    "    spectral_rolloff = np.mean(librosa.feature.spectral_rolloff(y=y, sr=sr)[0])    # 添加 y= 和 sr=\n",
    "    mfccs = np.mean(librosa.feature.mfcc(y=y, sr=sr), axis=1)  # 添加 y= 和 sr=\n",
    "\n",
    "    # 组合特征\n",
    "    features = {\n",
    "        \"zcr\": zcr,\n",
    "        \"spectral_centroid\": spectral_centroid,\n",
    "        \"spectral_rolloff\": spectral_rolloff,\n",
    "    }\n",
    "    features.update({f\"mfcc_{i+1}\": mfcc for i, mfcc in enumerate(mfccs)})\n",
    "    return features\n",
    "\n",
    "# 测试代码\n",
    "audio_file = \"/Users/andrewhsu/Documents/FinTech_emotion/output_audio.wav\"  # 替换为音频文件路径\n",
    "audio_features = extract_audio_features_with_librosa(audio_file)\n",
    "print(\"Extracted Audio Features:\")\n",
    "print(audio_features)"
   ]
  },
  {
   "cell_type": "code",
   "execution_count": 26,
   "metadata": {},
   "outputs": [],
   "source": [
    "from sklearn.preprocessing import MinMaxScaler\n",
    "from sklearn.linear_model import LinearRegression\n",
    "import matplotlib.pyplot as plt\n",
    "import numpy as np\n",
    "\n",
    "# 调整情绪模型的映射函数\n",
    "def map_to_emotion_space(features):\n",
    "    # 归一化特征值\n",
    "    scaler = MinMaxScaler(feature_range=(-1, 1))\n",
    "    feature_values = np.array(list(features.values())).reshape(1, -1)\n",
    "    normalized_features = scaler.fit_transform(feature_values).reshape(-1)\n",
    "    \n",
    "    # 示例线性模型参数\n",
    "    pleasure_model = LinearRegression()\n",
    "    arousal_model = LinearRegression()\n",
    "    \n",
    "    # 手动设置合理的模型参数\n",
    "    np.random.seed(42)  # 固定随机种子，保证结果一致\n",
    "    pleasure_model.coef_ = np.random.uniform(-1, 1, len(normalized_features))  # 调整范围\n",
    "    pleasure_model.intercept_ = 0.5  # 设置偏置\n",
    "    arousal_model.coef_ = np.random.uniform(-1, 1, len(normalized_features))\n",
    "    arousal_model.intercept_ = -0.5  # 设置偏置\n",
    "    \n",
    "    # 计算愉悦度和唤醒度\n",
    "    pleasure = pleasure_model.predict([normalized_features])[0]\n",
    "    arousal = arousal_model.predict([normalized_features])[0]\n",
    "    \n",
    "    return {\"pleasure\": pleasure, \"arousal\": arousal}"
   ]
  },
  {
   "cell_type": "code",
   "execution_count": 23,
   "metadata": {},
   "outputs": [
    {
     "name": "stdout",
     "output_type": "stream",
     "text": [
      "Emotion Space Mapping (Normalized):\n",
      "{'pleasure': 3.1049256562692995, 'arousal': 1.4293715687766464}\n"
     ]
    },
    {
     "data": {
      "image/png": "[encoded data removed]",
      "text/plain": [
       "<Figure size 600x600 with 1 Axes>"
      ]
     },
     "metadata": {},
     "output_type": "display_data"
    }
   ],
   "source": [
    "import matplotlib.pyplot as plt\n",
    "\n",
    "# 绘图函数\n",
    "def plot_emotion_space(emotion_space):\n",
    "    pleasure = emotion_space[\"pleasure\"]\n",
    "    arousal = emotion_space[\"arousal\"]\n",
    "    \n",
    "    # 绘制二维情绪空间\n",
    "    plt.figure(figsize=(6, 6))\n",
    "    plt.axhline(0, color='gray', linewidth=0.8)  # 横轴\n",
    "    plt.axvline(0, color='gray', linewidth=0.8)  # 纵轴\n",
    "    plt.scatter(pleasure, arousal, color='red', label=\"Emotion Point\")\n",
    "    plt.text(pleasure, arousal, f\"({pleasure:.2f}, {arousal:.2f})\", fontsize=12, color='blue', ha='center', va='bottom')\n",
    "    plt.xlim(-1.5, 1.5)  # 限制 X 轴范围\n",
    "    plt.ylim(-1.5, 1.5)  # 限制 Y 轴范围\n",
    "    plt.xlabel(\"Pleasure\")\n",
    "    plt.ylabel(\"Arousal\")\n",
    "    plt.title(\"Emotion in Circumplex Model\")\n",
    "    plt.grid()\n",
    "    plt.legend()\n",
    "    plt.show()\n",
    "\n",
    "# 执行修订流程\n",
    "emotion_space = map_to_emotion_space(audio_features)\n",
    "print(\"Emotion Space Mapping (Normalized):\")\n",
    "print(emotion_space)\n",
    "\n",
    "plot_emotion_space(emotion_space)"
   ]
  }
 ],
 "metadata": {
  "kernelspec": {
   "display_name": "Python 3",
   "language": "python",
   "name": "python3"
  },
  "language_info": {
   "codemirror_mode": {
    "name": "ipython",
    "version": 3
   },
   "file_extension": ".py",
   "mimetype": "text/x-python",
   "name": "python",
   "nbconvert_exporter": "python",
   "pygments_lexer": "ipython3",
   "version": "3.10.1"
  }
 },
 "nbformat": 4,
 "nbformat_minor": 2
}
